{
 "cells": [
  {
   "cell_type": "code",
   "execution_count": 1,
   "metadata": {},
   "outputs": [
    {
     "data": {
      "text/html": [
       "\n",
       "        <div>\n",
       "            <p><b>SparkContext</b></p>\n",
       "\n",
       "            <p><a href=\"http://zipcodes-mbp-4.lan:4040\">Spark UI</a></p>\n",
       "\n",
       "            <dl>\n",
       "              <dt>Version</dt>\n",
       "                <dd><code>v2.4.5</code></dd>\n",
       "              <dt>Master</dt>\n",
       "                <dd><code>local[*]</code></dd>\n",
       "              <dt>AppName</dt>\n",
       "                <dd><code>PySparkShell</code></dd>\n",
       "            </dl>\n",
       "        </div>\n",
       "        "
      ],
      "text/plain": [
       "<SparkContext master=local[*] appName=PySparkShell>"
      ]
     },
     "execution_count": 1,
     "metadata": {},
     "output_type": "execute_result"
    }
   ],
   "source": [
    "sc"
   ]
  },
  {
   "cell_type": "code",
   "execution_count": 2,
   "metadata": {
    "tags": [
     "parameters"
    ]
   },
   "outputs": [],
   "source": [
    "ticker = \"TSLA\""
   ]
  },
  {
   "cell_type": "code",
   "execution_count": 3,
   "metadata": {},
   "outputs": [],
   "source": [
    "from pyspark.sql import *\n",
    "from pyspark.sql.types import *\n",
    "from pyspark.sql import SparkSession\n",
    "from pyspark.sql import SQLContext\n",
    "from pyspark.sql import functions as F\n",
    "from pyspark.sql import Window\n",
    "import pandas as pd\n",
    "import numpy as np\n",
    "import pyarrow\n",
    "import yfinance as yf\n",
    "from pyspark.sql.functions import lag, col, Column, when, isnull, to_date, to_timestamp\n",
    "from pyspark.sql.types import DateType\n",
    "from pyspark.sql.window import Window"
   ]
  },
  {
   "cell_type": "code",
   "execution_count": 4,
   "metadata": {},
   "outputs": [
    {
     "data": {
      "text/plain": [
       "{'zip': '94304',\n",
       " 'sector': 'Consumer Cyclical',\n",
       " 'fullTimeEmployees': 48016,\n",
       " 'longBusinessSummary': 'Tesla, Inc. designs, develops, manufactures, leases, and sells electric vehicles, and energy generation and storage systems in the United States, China, Netherlands, Norway, and internationally. The company operates in two segments, Automotive; and Energy Generation and Storage. The Automotive segment offers sedans and sport utility vehicles. It also provides electric powertrain components and systems; and services for electric vehicles through its company-owned service locations, and Tesla mobile service technicians, as well as sells used vehicles. This segment markets and sells its products through a network of company-owned stores and galleries, as well as through its own Website. The Energy Generation and Storage segment offers energy storage products, such as rechargeable lithium-ion battery systems for use in homes, industrial, commercial facilities, and utility grids; and designs, manufactures, installs, maintains, leases, and sells solar energy generation and energy storage products to residential and commercial customers. It also provides vehicle insurance services, as well as renewable energy. The company was formerly known as Tesla Motors, Inc. and changed its name to Tesla, Inc. in February 2017. Tesla, Inc. was founded in 2003 and is headquartered in Palo Alto, California.',\n",
       " 'city': 'Palo Alto',\n",
       " 'phone': '650-681-5000',\n",
       " 'state': 'CA',\n",
       " 'country': 'United States',\n",
       " 'companyOfficers': [],\n",
       " 'website': 'http://www.tesla.com',\n",
       " 'maxAge': 1,\n",
       " 'address1': '3500 Deer Creek Road',\n",
       " 'industry': 'Auto Manufacturers',\n",
       " 'previousClose': 827.6,\n",
       " 'regularMarketOpen': 822.174,\n",
       " 'twoHundredDayAverage': 570.76184,\n",
       " 'trailingAnnualDividendYield': None,\n",
       " 'payoutRatio': 0,\n",
       " 'volume24Hr': None,\n",
       " 'regularMarketDayHigh': 831.78,\n",
       " 'navPrice': None,\n",
       " 'averageDailyVolume10Day': 12505987,\n",
       " 'totalAssets': None,\n",
       " 'regularMarketPreviousClose': 827.6,\n",
       " 'fiftyDayAverage': 724.1637,\n",
       " 'trailingAnnualDividendRate': None,\n",
       " 'open': 822.174,\n",
       " 'toCurrency': None,\n",
       " 'averageVolume10days': 12505987,\n",
       " 'expireDate': None,\n",
       " 'yield': None,\n",
       " 'algorithm': None,\n",
       " 'dividendRate': None,\n",
       " 'exDividendDate': None,\n",
       " 'beta': 1.156884,\n",
       " 'circulatingSupply': None,\n",
       " 'startDate': None,\n",
       " 'regularMarketDayLow': 816,\n",
       " 'priceHint': 2,\n",
       " 'currency': 'USD',\n",
       " 'regularMarketVolume': 2054951,\n",
       " 'lastMarket': None,\n",
       " 'maxSupply': None,\n",
       " 'openInterest': None,\n",
       " 'marketCap': 152637849600,\n",
       " 'volumeAllCurrencies': None,\n",
       " 'strikePrice': None,\n",
       " 'averageVolume': 17809009,\n",
       " 'priceToSalesTrailing12Months': 5.865723,\n",
       " 'dayLow': 816,\n",
       " 'ask': 824.93,\n",
       " 'ytdReturn': None,\n",
       " 'askSize': 1000,\n",
       " 'volume': 2054951,\n",
       " 'fiftyTwoWeekHigh': 968.99,\n",
       " 'forwardPE': 70.31751,\n",
       " 'fromCurrency': None,\n",
       " 'fiveYearAvgDividendYield': None,\n",
       " 'fiftyTwoWeekLow': 176.99,\n",
       " 'bid': 824.45,\n",
       " 'tradeable': False,\n",
       " 'dividendYield': None,\n",
       " 'bidSize': 1000,\n",
       " 'dayHigh': 831.78,\n",
       " 'exchange': 'NMS',\n",
       " 'shortName': 'Tesla, Inc.',\n",
       " 'longName': 'Tesla, Inc.',\n",
       " 'exchangeTimezoneName': 'America/New_York',\n",
       " 'exchangeTimezoneShortName': 'EDT',\n",
       " 'isEsgPopulated': False,\n",
       " 'gmtOffSetMilliseconds': '-14400000',\n",
       " 'quoteType': 'EQUITY',\n",
       " 'symbol': 'TSLA',\n",
       " 'messageBoardId': 'finmb_27444752',\n",
       " 'market': 'us_market',\n",
       " 'annualHoldingsTurnover': None,\n",
       " 'enterpriseToRevenue': 6.168,\n",
       " 'beta3Year': None,\n",
       " 'profitMargins': -0.0055299997,\n",
       " 'enterpriseToEbitda': 52.923,\n",
       " '52WeekChange': 3.341394,\n",
       " 'morningStarRiskRating': None,\n",
       " 'forwardEps': 11.71,\n",
       " 'revenueQuarterlyGrowth': None,\n",
       " 'sharesOutstanding': 185371008,\n",
       " 'fundInceptionDate': None,\n",
       " 'annualReportExpenseRatio': None,\n",
       " 'bookValue': 49.584,\n",
       " 'sharesShort': 17187415,\n",
       " 'sharesPercentSharesOut': 0.092700005,\n",
       " 'fundFamily': None,\n",
       " 'lastFiscalYearEnd': 1577750400,\n",
       " 'heldPercentInstitutions': 0.57927,\n",
       " 'netIncomeToCommon': -136000000,\n",
       " 'trailingEps': -0.811,\n",
       " 'lastDividendValue': None,\n",
       " 'SandP52WeekChange': 0.04332888,\n",
       " 'priceToBook': 16.606527,\n",
       " 'heldPercentInsiders': 0.2051,\n",
       " 'nextFiscalYearEnd': 1640908800,\n",
       " 'mostRecentQuarter': 1585612800,\n",
       " 'shortRatio': 0.96,\n",
       " 'sharesShortPreviousMonthDate': 1585612800,\n",
       " 'floatShares': 147666622,\n",
       " 'enterpriseValue': 160515784704,\n",
       " 'threeYearAverageReturn': None,\n",
       " 'lastSplitDate': None,\n",
       " 'lastSplitFactor': None,\n",
       " 'legalType': None,\n",
       " 'morningStarOverallRating': None,\n",
       " 'earningsQuarterlyGrowth': None,\n",
       " 'dateShortInterest': 1588204800,\n",
       " 'pegRatio': 0.66,\n",
       " 'lastCapGain': None,\n",
       " 'shortPercentOfFloat': 0.1163,\n",
       " 'sharesShortPriorMonth': 19687406,\n",
       " 'category': None,\n",
       " 'fiveYearAverageReturn': None,\n",
       " 'regularMarketPrice': 822.174,\n",
       " 'logo_url': 'https://logo.clearbit.com/tesla.com'}"
      ]
     },
     "execution_count": 4,
     "metadata": {},
     "output_type": "execute_result"
    }
   ],
   "source": [
    "import yfinance as yf\n",
    "tsla = yf.Ticker(ticker)\n",
    "tsla.info"
   ]
  },
  {
   "cell_type": "code",
   "execution_count": 5,
   "metadata": {},
   "outputs": [
    {
     "data": {
      "text/plain": [
       "<bound method NDFrame.describe of               Open    High     Low   Close    Volume  Dividends  Stock Splits\n",
       "Date                                                                         \n",
       "2020-04-13  590.16  652.00  580.53  650.95  22475400          0             0\n",
       "2020-04-14  698.97  741.88  692.43  709.89  30576500          0             0\n",
       "2020-04-15  742.00  753.13  710.00  729.83  23577000          0             0\n",
       "2020-04-16  716.94  759.45  706.72  745.21  20657900          0             0\n",
       "2020-04-17  772.28  774.95  747.66  753.89  13128200          0             0\n",
       "2020-04-20  732.70  765.57  712.21  746.36  14746600          0             0\n",
       "2020-04-21  730.12  753.33  673.79  686.72  20209100          0             0\n",
       "2020-04-22  703.98  734.00  688.71  732.11  14224800          0             0\n",
       "2020-04-23  727.60  734.00  703.13  705.63  13236700          0             0\n",
       "2020-04-24  710.81  730.73  698.18  725.15  13237600          0             0\n",
       "2020-04-27  737.61  799.49  735.00  798.75  20681400          0             0\n",
       "2020-04-28  795.64  805.00  756.69  769.12  15222000          0             0\n",
       "2020-04-29  790.17  803.20  783.16  800.51  16216000          0             0\n",
       "2020-04-30  855.19  869.82  763.50  781.88  28471900          0             0\n",
       "2020-05-01  755.00  772.77  683.04  701.32  32531800          0             0\n",
       "2020-05-04  701.00  762.00  698.00  761.19  19237100          0             0\n",
       "2020-05-05  789.79  798.92  762.18  768.21  16991700          0             0\n",
       "2020-05-06  776.50  789.80  761.11  782.58  11123200          0             0\n",
       "2020-05-07  777.21  796.40  772.35  780.04  11527700          0             0\n",
       "2020-05-08  793.77  824.00  787.01  819.42  16130100          0             0\n",
       "2020-05-11  790.51  824.00  785.00  811.29  16471100          0             0\n",
       "2020-05-12  827.00  843.29  808.00  809.41  15906900          0             0\n",
       "2020-05-13  820.83  826.00  763.30  790.96  19065500          0             0\n",
       "2020-05-14  780.00  803.36  764.00  803.33  13682200          0             0\n",
       "2020-05-15  790.35  805.05  786.55  799.17  10518400          0             0\n",
       "2020-05-18  827.78  834.72  803.88  813.63  11698100          0             0\n",
       "2020-05-19  815.17  822.07  806.08  808.01   9636500          0             0\n",
       "2020-05-20  820.50  826.00  811.80  815.56   7309300          0             0\n",
       "2020-05-21  816.00  832.50  796.00  827.60  12231000          0             0\n",
       "2020-05-22  822.17  831.78  816.00  823.47   2057623          0             0>"
      ]
     },
     "execution_count": 5,
     "metadata": {},
     "output_type": "execute_result"
    }
   ],
   "source": [
    "df = tsla.history(period=\"30d\")\n",
    "df.describe"
   ]
  },
  {
   "cell_type": "code",
   "execution_count": 6,
   "metadata": {},
   "outputs": [],
   "source": [
    "#sparkdf = spark.createDataFrame(df)\n",
    "#sparkdf.show()"
   ]
  },
  {
   "cell_type": "code",
   "execution_count": 7,
   "metadata": {},
   "outputs": [
    {
     "name": "stdout",
     "output_type": "stream",
     "text": [
      "+-------------------+------+------+------+------+--------+---------+------------+\n",
      "|               Date|  Open|  High|   Low| Close|  Volume|Dividends|Stock Splits|\n",
      "+-------------------+------+------+------+------+--------+---------+------------+\n",
      "|2020-04-13 00:00:00|590.16| 652.0|580.53|650.95|22475400|        0|           0|\n",
      "|2020-04-14 00:00:00|698.97|741.88|692.43|709.89|30576500|        0|           0|\n",
      "|2020-04-15 00:00:00| 742.0|753.13| 710.0|729.83|23577000|        0|           0|\n",
      "|2020-04-16 00:00:00|716.94|759.45|706.72|745.21|20657900|        0|           0|\n",
      "|2020-04-17 00:00:00|772.28|774.95|747.66|753.89|13128200|        0|           0|\n",
      "|2020-04-20 00:00:00| 732.7|765.57|712.21|746.36|14746600|        0|           0|\n",
      "|2020-04-21 00:00:00|730.12|753.33|673.79|686.72|20209100|        0|           0|\n",
      "|2020-04-22 00:00:00|703.98| 734.0|688.71|732.11|14224800|        0|           0|\n",
      "|2020-04-23 00:00:00| 727.6| 734.0|703.13|705.63|13236700|        0|           0|\n",
      "|2020-04-24 00:00:00|710.81|730.73|698.18|725.15|13237600|        0|           0|\n",
      "|2020-04-27 00:00:00|737.61|799.49| 735.0|798.75|20681400|        0|           0|\n",
      "|2020-04-28 00:00:00|795.64| 805.0|756.69|769.12|15222000|        0|           0|\n",
      "|2020-04-29 00:00:00|790.17| 803.2|783.16|800.51|16216000|        0|           0|\n",
      "|2020-04-30 00:00:00|855.19|869.82| 763.5|781.88|28471900|        0|           0|\n",
      "|2020-05-01 00:00:00| 755.0|772.77|683.04|701.32|32531800|        0|           0|\n",
      "|2020-05-04 00:00:00| 701.0| 762.0| 698.0|761.19|19237100|        0|           0|\n",
      "|2020-05-05 00:00:00|789.79|798.92|762.18|768.21|16991700|        0|           0|\n",
      "|2020-05-06 00:00:00| 776.5| 789.8|761.11|782.58|11123200|        0|           0|\n",
      "|2020-05-07 00:00:00|777.21| 796.4|772.35|780.04|11527700|        0|           0|\n",
      "|2020-05-08 00:00:00|793.77| 824.0|787.01|819.42|16130100|        0|           0|\n",
      "+-------------------+------+------+------+------+--------+---------+------------+\n",
      "only showing top 20 rows\n",
      "\n"
     ]
    }
   ],
   "source": [
    "#spark.conf.set(\"spark.sql.execution.arrow.enabled\",\"true\")\n",
    "sparkdf = sqlContext.createDataFrame(df.reset_index (drop=False))\n",
    "sparkdf.show()"
   ]
  },
  {
   "cell_type": "code",
   "execution_count": 8,
   "metadata": {},
   "outputs": [
    {
     "name": "stdout",
     "output_type": "stream",
     "text": [
      "+-------------------+------+------+------+------+--------+\n",
      "|               Date|  Open|  High|   Low| Close|  Volume|\n",
      "+-------------------+------+------+------+------+--------+\n",
      "|2020-04-13 00:00:00|590.16| 652.0|580.53|650.95|22475400|\n",
      "|2020-04-14 00:00:00|698.97|741.88|692.43|709.89|30576500|\n",
      "|2020-04-15 00:00:00| 742.0|753.13| 710.0|729.83|23577000|\n",
      "|2020-04-16 00:00:00|716.94|759.45|706.72|745.21|20657900|\n",
      "|2020-04-17 00:00:00|772.28|774.95|747.66|753.89|13128200|\n",
      "|2020-04-20 00:00:00| 732.7|765.57|712.21|746.36|14746600|\n",
      "|2020-04-21 00:00:00|730.12|753.33|673.79|686.72|20209100|\n",
      "|2020-04-22 00:00:00|703.98| 734.0|688.71|732.11|14224800|\n",
      "|2020-04-23 00:00:00| 727.6| 734.0|703.13|705.63|13236700|\n",
      "|2020-04-24 00:00:00|710.81|730.73|698.18|725.15|13237600|\n",
      "|2020-04-27 00:00:00|737.61|799.49| 735.0|798.75|20681400|\n",
      "|2020-04-28 00:00:00|795.64| 805.0|756.69|769.12|15222000|\n",
      "|2020-04-29 00:00:00|790.17| 803.2|783.16|800.51|16216000|\n",
      "|2020-04-30 00:00:00|855.19|869.82| 763.5|781.88|28471900|\n",
      "|2020-05-01 00:00:00| 755.0|772.77|683.04|701.32|32531800|\n",
      "|2020-05-04 00:00:00| 701.0| 762.0| 698.0|761.19|19237100|\n",
      "|2020-05-05 00:00:00|789.79|798.92|762.18|768.21|16991700|\n",
      "|2020-05-06 00:00:00| 776.5| 789.8|761.11|782.58|11123200|\n",
      "|2020-05-07 00:00:00|777.21| 796.4|772.35|780.04|11527700|\n",
      "|2020-05-08 00:00:00|793.77| 824.0|787.01|819.42|16130100|\n",
      "+-------------------+------+------+------+------+--------+\n",
      "only showing top 20 rows\n",
      "\n"
     ]
    }
   ],
   "source": [
    "#df_pandas = df_pandas.drop(['Dividends', 'Stock Splits'], axis=1)\n",
    "sparkdf = sparkdf.drop('Dividends','Stock Splits')\n",
    "sparkdf.show()"
   ]
  },
  {
   "cell_type": "code",
   "execution_count": 9,
   "metadata": {},
   "outputs": [],
   "source": [
    "#sparkdf = sparkdf.withColumn('Date',to_date(col('date'), \"yyyy-MM-dd\")).show()\n",
    "sparkdf = sparkdf.withColumn(\"Date\", sparkdf[\"Date\"].cast(DateType()))\n",
    "#sparkdf"
   ]
  },
  {
   "cell_type": "code",
   "execution_count": 10,
   "metadata": {},
   "outputs": [],
   "source": [
    "#sparkdf = sqlContext.createDataFrame(sparkdf.reset_index (drop=False))"
   ]
  },
  {
   "cell_type": "code",
   "execution_count": 11,
   "metadata": {},
   "outputs": [
    {
     "name": "stdout",
     "output_type": "stream",
     "text": [
      "+----------+------+------+------+------+--------+\n",
      "|      Date|  Open|  High|   Low| Close|  Volume|\n",
      "+----------+------+------+------+------+--------+\n",
      "|2020-04-13|590.16| 652.0|580.53|650.95|22475400|\n",
      "|2020-04-14|698.97|741.88|692.43|709.89|30576500|\n",
      "|2020-04-15| 742.0|753.13| 710.0|729.83|23577000|\n",
      "|2020-04-16|716.94|759.45|706.72|745.21|20657900|\n",
      "|2020-04-17|772.28|774.95|747.66|753.89|13128200|\n",
      "|2020-04-20| 732.7|765.57|712.21|746.36|14746600|\n",
      "|2020-04-21|730.12|753.33|673.79|686.72|20209100|\n",
      "|2020-04-22|703.98| 734.0|688.71|732.11|14224800|\n",
      "|2020-04-23| 727.6| 734.0|703.13|705.63|13236700|\n",
      "|2020-04-24|710.81|730.73|698.18|725.15|13237600|\n",
      "|2020-04-27|737.61|799.49| 735.0|798.75|20681400|\n",
      "|2020-04-28|795.64| 805.0|756.69|769.12|15222000|\n",
      "|2020-04-29|790.17| 803.2|783.16|800.51|16216000|\n",
      "|2020-04-30|855.19|869.82| 763.5|781.88|28471900|\n",
      "|2020-05-01| 755.0|772.77|683.04|701.32|32531800|\n",
      "|2020-05-04| 701.0| 762.0| 698.0|761.19|19237100|\n",
      "|2020-05-05|789.79|798.92|762.18|768.21|16991700|\n",
      "|2020-05-06| 776.5| 789.8|761.11|782.58|11123200|\n",
      "|2020-05-07|777.21| 796.4|772.35|780.04|11527700|\n",
      "|2020-05-08|793.77| 824.0|787.01|819.42|16130100|\n",
      "+----------+------+------+------+------+--------+\n",
      "only showing top 20 rows\n",
      "\n"
     ]
    }
   ],
   "source": [
    "sparkdf.show()"
   ]
  },
  {
   "cell_type": "code",
   "execution_count": 12,
   "metadata": {},
   "outputs": [],
   "source": [
    "from pyspark.sql.functions import lag, col, when, isnull\n",
    "\n",
    "from pyspark.sql.window import Window"
   ]
  },
  {
   "cell_type": "code",
   "execution_count": 13,
   "metadata": {},
   "outputs": [],
   "source": [
    "w=Window().partitionBy().orderBy(col(\"Date\"))\n",
    "#sparkdf.select(\"*\", lag(\"Close\").over(w).alias(\"newcolumn\")).na.drop().show()\n",
    "sparkdf = sparkdf.withColumn(\"PreviousClose\", lag(\"Close\",1,0).over(w))"
   ]
  },
  {
   "cell_type": "code",
   "execution_count": 14,
   "metadata": {},
   "outputs": [
    {
     "name": "stdout",
     "output_type": "stream",
     "text": [
      "+----------+------+------+------+------+--------+-------------+\n",
      "|      Date|  Open|  High|   Low| Close|  Volume|PreviousClose|\n",
      "+----------+------+------+------+------+--------+-------------+\n",
      "|2020-04-13|590.16| 652.0|580.53|650.95|22475400|          0.0|\n",
      "|2020-04-14|698.97|741.88|692.43|709.89|30576500|       650.95|\n",
      "|2020-04-15| 742.0|753.13| 710.0|729.83|23577000|       709.89|\n",
      "|2020-04-16|716.94|759.45|706.72|745.21|20657900|       729.83|\n",
      "|2020-04-17|772.28|774.95|747.66|753.89|13128200|       745.21|\n",
      "|2020-04-20| 732.7|765.57|712.21|746.36|14746600|       753.89|\n",
      "|2020-04-21|730.12|753.33|673.79|686.72|20209100|       746.36|\n",
      "|2020-04-22|703.98| 734.0|688.71|732.11|14224800|       686.72|\n",
      "|2020-04-23| 727.6| 734.0|703.13|705.63|13236700|       732.11|\n",
      "|2020-04-24|710.81|730.73|698.18|725.15|13237600|       705.63|\n",
      "|2020-04-27|737.61|799.49| 735.0|798.75|20681400|       725.15|\n",
      "|2020-04-28|795.64| 805.0|756.69|769.12|15222000|       798.75|\n",
      "|2020-04-29|790.17| 803.2|783.16|800.51|16216000|       769.12|\n",
      "|2020-04-30|855.19|869.82| 763.5|781.88|28471900|       800.51|\n",
      "|2020-05-01| 755.0|772.77|683.04|701.32|32531800|       781.88|\n",
      "|2020-05-04| 701.0| 762.0| 698.0|761.19|19237100|       701.32|\n",
      "|2020-05-05|789.79|798.92|762.18|768.21|16991700|       761.19|\n",
      "|2020-05-06| 776.5| 789.8|761.11|782.58|11123200|       768.21|\n",
      "|2020-05-07|777.21| 796.4|772.35|780.04|11527700|       782.58|\n",
      "|2020-05-08|793.77| 824.0|787.01|819.42|16130100|       780.04|\n",
      "+----------+------+------+------+------+--------+-------------+\n",
      "only showing top 20 rows\n",
      "\n"
     ]
    }
   ],
   "source": [
    "sparkdf.show()"
   ]
  },
  {
   "cell_type": "code",
   "execution_count": 15,
   "metadata": {},
   "outputs": [],
   "source": [
    "\n",
    "sparkdf = sparkdf.withColumn(\"Difference\", when(isnull(sparkdf.Close - sparkdf.PreviousClose),0).otherwise(sparkdf.Close-sparkdf.PreviousClose))\n"
   ]
  },
  {
   "cell_type": "code",
   "execution_count": 16,
   "metadata": {},
   "outputs": [
    {
     "name": "stdout",
     "output_type": "stream",
     "text": [
      "+----------+------+------+------+------+--------+-------------+-------------------+\n",
      "|      Date|  Open|  High|   Low| Close|  Volume|PreviousClose|         Difference|\n",
      "+----------+------+------+------+------+--------+-------------+-------------------+\n",
      "|2020-04-13|590.16| 652.0|580.53|650.95|22475400|          0.0|             650.95|\n",
      "|2020-04-14|698.97|741.88|692.43|709.89|30576500|       650.95|  58.93999999999994|\n",
      "|2020-04-15| 742.0|753.13| 710.0|729.83|23577000|       709.89| 19.940000000000055|\n",
      "|2020-04-16|716.94|759.45|706.72|745.21|20657900|       729.83| 15.379999999999995|\n",
      "|2020-04-17|772.28|774.95|747.66|753.89|13128200|       745.21|   8.67999999999995|\n",
      "|2020-04-20| 732.7|765.57|712.21|746.36|14746600|       753.89| -7.529999999999973|\n",
      "|2020-04-21|730.12|753.33|673.79|686.72|20209100|       746.36|-59.639999999999986|\n",
      "|2020-04-22|703.98| 734.0|688.71|732.11|14224800|       686.72| 45.389999999999986|\n",
      "|2020-04-23| 727.6| 734.0|703.13|705.63|13236700|       732.11|-26.480000000000018|\n",
      "|2020-04-24|710.81|730.73|698.18|725.15|13237600|       705.63| 19.519999999999982|\n",
      "|2020-04-27|737.61|799.49| 735.0|798.75|20681400|       725.15|  73.60000000000002|\n",
      "|2020-04-28|795.64| 805.0|756.69|769.12|15222000|       798.75|-29.629999999999995|\n",
      "|2020-04-29|790.17| 803.2|783.16|800.51|16216000|       769.12| 31.389999999999986|\n",
      "|2020-04-30|855.19|869.82| 763.5|781.88|28471900|       800.51|-18.629999999999995|\n",
      "|2020-05-01| 755.0|772.77|683.04|701.32|32531800|       781.88| -80.55999999999995|\n",
      "|2020-05-04| 701.0| 762.0| 698.0|761.19|19237100|       701.32| 59.870000000000005|\n",
      "|2020-05-05|789.79|798.92|762.18|768.21|16991700|       761.19|  7.019999999999982|\n",
      "|2020-05-06| 776.5| 789.8|761.11|782.58|11123200|       768.21| 14.370000000000005|\n",
      "|2020-05-07|777.21| 796.4|772.35|780.04|11527700|       782.58|-2.5400000000000773|\n",
      "|2020-05-08|793.77| 824.0|787.01|819.42|16130100|       780.04| 39.379999999999995|\n",
      "+----------+------+------+------+------+--------+-------------+-------------------+\n",
      "only showing top 20 rows\n",
      "\n"
     ]
    }
   ],
   "source": [
    "sparkdf.show()"
   ]
  },
  {
   "cell_type": "code",
   "execution_count": 17,
   "metadata": {},
   "outputs": [],
   "source": [
    "sparkdf = sparkdf.withColumn(\"percentage_change\", when(isnull(sparkdf.Difference / sparkdf.PreviousClose),0).otherwise(sparkdf.Difference / sparkdf.PreviousClose))\n"
   ]
  },
  {
   "cell_type": "code",
   "execution_count": 18,
   "metadata": {},
   "outputs": [
    {
     "name": "stdout",
     "output_type": "stream",
     "text": [
      "+----------+------+------+------+------+--------+-------------+-------------------+--------------------+\n",
      "|      Date|  Open|  High|   Low| Close|  Volume|PreviousClose|         Difference|   percentage_change|\n",
      "+----------+------+------+------+------+--------+-------------+-------------------+--------------------+\n",
      "|2020-04-13|590.16| 652.0|580.53|650.95|22475400|          0.0|             650.95|                 0.0|\n",
      "|2020-04-14|698.97|741.88|692.43|709.89|30576500|       650.95|  58.93999999999994| 0.09054458867808578|\n",
      "|2020-04-15| 742.0|753.13| 710.0|729.83|23577000|       709.89| 19.940000000000055|0.028088858837284725|\n",
      "|2020-04-16|716.94|759.45|706.72|745.21|20657900|       729.83| 15.379999999999995|0.021073400654947037|\n",
      "|2020-04-17|772.28|774.95|747.66|753.89|13128200|       745.21|   8.67999999999995|0.011647723460500999|\n",
      "|2020-04-20| 732.7|765.57|712.21|746.36|14746600|       753.89| -7.529999999999973|-0.00998819456419...|\n",
      "|2020-04-21|730.12|753.33|673.79|686.72|20209100|       746.36|-59.639999999999986|-0.07990781928291975|\n",
      "|2020-04-22|703.98| 734.0|688.71|732.11|14224800|       686.72| 45.389999999999986| 0.06609680801491144|\n",
      "|2020-04-23| 727.6| 734.0|703.13|705.63|13236700|       732.11|-26.480000000000018|-0.03616942809140705|\n",
      "|2020-04-24|710.81|730.73|698.18|725.15|13237600|       705.63| 19.519999999999982| 0.02766322293553276|\n",
      "|2020-04-27|737.61|799.49| 735.0|798.75|20681400|       725.15|  73.60000000000002| 0.10149624215679517|\n",
      "|2020-04-28|795.64| 805.0|756.69|769.12|15222000|       798.75|-29.629999999999995|-0.03709546165884...|\n",
      "|2020-04-29|790.17| 803.2|783.16|800.51|16216000|       769.12| 31.389999999999986|  0.0408128770542958|\n",
      "|2020-04-30|855.19|869.82| 763.5|781.88|28471900|       800.51|-18.629999999999995|-0.02327266367690...|\n",
      "|2020-05-01| 755.0|772.77|683.04|701.32|32531800|       781.88| -80.55999999999995|-0.10303371361334213|\n",
      "|2020-05-04| 701.0| 762.0| 698.0|761.19|19237100|       701.32| 59.870000000000005| 0.08536759253978213|\n",
      "|2020-05-05|789.79|798.92|762.18|768.21|16991700|       761.19|  7.019999999999982|0.009222401765656382|\n",
      "|2020-05-06| 776.5| 789.8|761.11|782.58|11123200|       768.21| 14.370000000000005|0.018705822626625537|\n",
      "|2020-05-07|777.21| 796.4|772.35|780.04|11527700|       782.58|-2.5400000000000773|-0.00324567456362...|\n",
      "|2020-05-08|793.77| 824.0|787.01|819.42|16130100|       780.04| 39.379999999999995| 0.05048459053381878|\n",
      "|2020-05-11|790.51| 824.0| 785.0|811.29|16471100|       819.42| -8.129999999999995|-0.00992165190012...|\n",
      "|2020-05-12| 827.0|843.29| 808.0|809.41|15906900|       811.29|-1.8799999999999955|-0.00231729714405...|\n",
      "|2020-05-13|820.83| 826.0| 763.3|790.96|19065500|       809.41|-18.449999999999932|-0.02279438109240...|\n",
      "|2020-05-14| 780.0|803.36| 764.0|803.33|13682200|       790.96| 12.370000000000005|0.015639223222413276|\n",
      "|2020-05-15|790.35|805.05|786.55|799.17|10518400|       803.33| -4.160000000000082|-0.00517844472383713|\n",
      "|2020-05-18|827.78|834.72|803.88|813.63|11698100|       799.17| 14.460000000000036|0.018093772288749622|\n",
      "|2020-05-19|815.17|822.07|806.08|808.01| 9636500|       813.63|-5.6200000000000045|-0.00690731659353...|\n",
      "|2020-05-20| 820.5| 826.0| 811.8|815.56| 7309300|       808.01| 7.5499999999999545|0.009343943763072182|\n",
      "|2020-05-21| 816.0| 832.5| 796.0| 827.6|12231000|       815.56| 12.040000000000077| 0.01476286232772583|\n",
      "|2020-05-22|822.17|831.78| 816.0|823.47| 2057623|        827.6|-4.1299999999999955|-0.00499033349444...|\n",
      "+----------+------+------+------+------+--------+-------------+-------------------+--------------------+\n",
      "\n"
     ]
    }
   ],
   "source": [
    "sparkdf.show(31)"
   ]
  },
  {
   "cell_type": "code",
   "execution_count": 19,
   "metadata": {},
   "outputs": [],
   "source": [
    "#sparkdf.write.csv('yfinance.csv')"
   ]
  },
  {
   "cell_type": "code",
   "execution_count": 20,
   "metadata": {},
   "outputs": [],
   "source": [
    "sparkdf.write.format('jdbc').options(\n",
    "        url='jdbc:mysql://localhost:3306/stocks?serverTimezone=UTC',\n",
    "        driver='com.mysql.jdbc.Driver',\n",
    "        dbtable='yfinance',\n",
    "        user='root',\n",
    "        password='yourpassword').mode('ignore').save()"
   ]
  },
  {
   "cell_type": "code",
   "execution_count": null,
   "metadata": {},
   "outputs": [],
   "source": []
  },
  {
   "cell_type": "code",
   "execution_count": null,
   "metadata": {},
   "outputs": [],
   "source": []
  },
  {
   "cell_type": "code",
   "execution_count": null,
   "metadata": {},
   "outputs": [],
   "source": []
  },
  {
   "cell_type": "code",
   "execution_count": null,
   "metadata": {},
   "outputs": [],
   "source": []
  },
  {
   "cell_type": "code",
   "execution_count": null,
   "metadata": {},
   "outputs": [],
   "source": []
  }
 ],
 "metadata": {
  "celltoolbar": "Tags",
  "kernelspec": {
   "display_name": "Python 3",
   "language": "python",
   "name": "python3"
  },
  "language_info": {
   "codemirror_mode": {
    "name": "ipython",
    "version": 3
   },
   "file_extension": ".py",
   "mimetype": "text/x-python",
   "name": "python",
   "nbconvert_exporter": "python",
   "pygments_lexer": "ipython3",
   "version": "3.7.4"
  },
  "pycharm": {
   "stem_cell": {
    "cell_type": "raw",
    "metadata": {
     "collapsed": false
    },
    "source": []
   }
  }
 },
 "nbformat": 4,
 "nbformat_minor": 2
}
